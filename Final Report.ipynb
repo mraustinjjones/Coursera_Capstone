{
 "cells": [
  {
   "cell_type": "markdown",
   "metadata": {},
   "source": [
    "# IBM Data Science Capstone"
   ]
  },
  {
   "cell_type": "markdown",
   "metadata": {},
   "source": [
    "## Introduction"
   ]
  },
  {
   "cell_type": "markdown",
   "metadata": {},
   "source": [
    "My Capstone Project aims at providing information for upcoming graduates to better decide where they'd like to work upon graduation. My audience is comprised of upcoming college graduates who are working in the investing realm. I'm focusing on those students who are considering moving to New York City and Toronto, the finance capitals of the U.S. and Canada, respectively. I will be investigating the characteristics of venues in neighborhoods around both cities finance hubs to provide potential movers more insight into the two cities. I will conduct analysis based on the types of venues within the two areas, assuming that the workers will earn the same real pay in either city."
   ]
  },
  {
   "cell_type": "markdown",
   "metadata": {},
   "source": [
    "## Data"
   ]
  },
  {
   "cell_type": "markdown",
   "metadata": {},
   "source": [
    "The data I will be using is Foursquare location data. This open source data gives me visualization information about venues aroung both cities. I will pair this data with longitudinal and latitudinal values for the neighborhoods in each city to be more specific as to where these graduates may want to live. The longitudinal and latitudinal data was found in the previous lab for this capstone."
   ]
  },
  {
   "cell_type": "markdown",
   "metadata": {},
   "source": [
    "## Methodology"
   ]
  },
  {
   "cell_type": "markdown",
   "metadata": {},
   "source": [
    "In my report I created maps of Toronto and New York, and created clusters for the venues. Visualizing these clusters, I was able to investigate which types of attractive venues are in these two finance hubs."
   ]
  },
  {
   "cell_type": "markdown",
   "metadata": {},
   "source": [
    "## Results"
   ]
  },
  {
   "cell_type": "markdown",
   "metadata": {},
   "source": [
    "## Discussion"
   ]
  },
  {
   "cell_type": "markdown",
   "metadata": {},
   "source": [
    "Both cities offer great variety in venues, but Manhattan offers more unique neighborhoods when compared to those around them."
   ]
  },
  {
   "cell_type": "markdown",
   "metadata": {},
   "source": [
    "To begin with Manhattan, one has a wide variety as to what type of neighborhood they would like to be in. Hamilton Height, East Harlem, and Manhattan Valley would all be fantastic places for someone who enjoys going out to eat, as many of their common venues are restaurants, pizza places, bakeries, etc. Beyond these, the neighborhoods shown in purple all show great diversity in the types on venues. For example, Lincoln Square’s most common venues include a theater, concert hall, Café, Park, Indie Movie Theater, as well as restaurants. For someone who doesn’t want to get out, Stuyvesant Town may be a good destination. It has a Park, Bar, Playground, Heliport, Basketball Court, Baseball Field, and Harbor/Marina in its ten most common venues. What this really boils down to is that Manhattan offers a fantastic diversity in the venues of each neighborhood, giving people moving a wide variety in what sort of things to do they want around them.\n",
    "\n",
    "Toronto also offers great variety in the types on neighborhoods one can be in. From a farmer’s market in Berczy Park, to a Skate Park in Eastern, to a Sculpture Garden in Bathurst Quay. One difference is that in Toronto many of the venues are fairly uniform across the clusters. Most are dominated by restaurants and may have one non-food or drink venue. This isn’t a bad thing by any means, but no neighborhoods like Stuyvesant Town came up dominated by activity driven venues."
   ]
  },
  {
   "cell_type": "markdown",
   "metadata": {},
   "source": [
    "## Conclusion"
   ]
  },
  {
   "cell_type": "markdown",
   "metadata": {},
   "source": [
    "In conclusion, this project should moreso than anything serve to show how people can investigate potential new cities. You may not find anything that you love, or you may discover a neighborhood you never would have otherwise."
   ]
  }
 ],
 "metadata": {
  "kernelspec": {
   "display_name": "Python 3",
   "language": "python",
   "name": "python3"
  },
  "language_info": {
   "codemirror_mode": {
    "name": "ipython",
    "version": 3
   },
   "file_extension": ".py",
   "mimetype": "text/x-python",
   "name": "python",
   "nbconvert_exporter": "python",
   "pygments_lexer": "ipython3",
   "version": "3.6.7"
  }
 },
 "nbformat": 4,
 "nbformat_minor": 4
}
